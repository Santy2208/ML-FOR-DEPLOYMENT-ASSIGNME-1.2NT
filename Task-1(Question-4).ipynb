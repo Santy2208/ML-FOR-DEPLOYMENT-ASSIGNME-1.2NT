{
 "cells": [
  {
   "cell_type": "markdown",
   "metadata": {},
   "source": [
    "### <font color=\"blue\">4.Write a Python program to find the volume of a sphere with diameter 12 cm.\n",
    "\n",
    "### Formula: V=4/3 * π * r3</font>"
   ]
  },
  {
   "cell_type": "code",
   "execution_count": 1,
   "metadata": {},
   "outputs": [
    {
     "name": "stdout",
     "output_type": "stream",
     "text": [
      "Enter the r of a sphere is  6\n",
      "Volume of the sphere will be  904.78\n"
     ]
    }
   ],
   "source": [
    "import math \n",
    "\n",
    "r=float(input(\"Enter the r of a sphere is  \")) # r is radius , radius =diameter/2\n",
    "\n",
    "volume=(4/3)*math.pi*pow(r,3) # Volume of sphere =4/3πr3\n",
    "\n",
    "print(\"Volume of the sphere will be  %.2f\" %volume)\n",
    "\n",
    "## As here given us diameter and radius is =diameter/2, so we have calculated the volume of sphere as per the\n",
    "\n",
    "## radius value 6 cm."
   ]
  },
  {
   "cell_type": "code",
   "execution_count": null,
   "metadata": {},
   "outputs": [],
   "source": []
  },
  {
   "cell_type": "code",
   "execution_count": null,
   "metadata": {},
   "outputs": [],
   "source": []
  },
  {
   "cell_type": "code",
   "execution_count": null,
   "metadata": {},
   "outputs": [],
   "source": []
  },
  {
   "cell_type": "code",
   "execution_count": null,
   "metadata": {},
   "outputs": [],
   "source": []
  },
  {
   "cell_type": "code",
   "execution_count": null,
   "metadata": {},
   "outputs": [],
   "source": []
  },
  {
   "cell_type": "code",
   "execution_count": null,
   "metadata": {},
   "outputs": [],
   "source": []
  }
 ],
 "metadata": {
  "kernelspec": {
   "display_name": "Python 3",
   "language": "python",
   "name": "python3"
  },
  "language_info": {
   "codemirror_mode": {
    "name": "ipython",
    "version": 3
   },
   "file_extension": ".py",
   "mimetype": "text/x-python",
   "name": "python",
   "nbconvert_exporter": "python",
   "pygments_lexer": "ipython3",
   "version": "3.7.3"
  }
 },
 "nbformat": 4,
 "nbformat_minor": 2
}
